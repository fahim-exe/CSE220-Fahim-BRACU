{
  "nbformat": 4,
  "nbformat_minor": 0,
  "metadata": {
    "colab": {
      "provenance": []
    },
    "kernelspec": {
      "name": "python3",
      "display_name": "Python 3"
    },
    "language_info": {
      "name": "python"
    }
  },
  "cells": [
    {
      "cell_type": "markdown",
      "source": [
        "#Solve Stack With Linked List\n"
      ],
      "metadata": {
        "id": "jP7xc-buNfxA"
      }
    },
    {
      "cell_type": "code",
      "source": [
        "class Node:\n",
        "  def __init__(self, data, next):\n",
        "      self.data = data\n",
        "      self.next = next"
      ],
      "metadata": {
        "id": "mHReWxTdbfXL"
      },
      "execution_count": 8,
      "outputs": []
    },
    {
      "cell_type": "code",
      "execution_count": 9,
      "metadata": {
        "id": "SlEey6Oda3kK"
      },
      "outputs": [],
      "source": [
        "class LinkedStack:\n",
        "  def __init__(self):\n",
        "      self.top = None\n",
        "\n",
        "  def push(self, data):\n",
        "      node = Node(data, None)\n",
        "        \n",
        "      if self.top == None:\n",
        "          self.top = node\n",
        "          return\n",
        "        \n",
        "      oldtop = self.top\n",
        "        \n",
        "      self.top = node\n",
        "        \n",
        "      self.top.next = oldtop\n",
        "\n",
        "  def pop(self):\n",
        "        \n",
        "    if self.top == None:\n",
        "          return f\"Stack Under Flow\"\n",
        "       \n",
        "    if self.top.next == None:\n",
        "        temp = self.top.data\n",
        "        self.top = None\n",
        "        return temp\n",
        "    temp = self.top.data\n",
        "    toBeTop = self.top.next\n",
        "    del self.top\n",
        "    self.top = toBeTop\n",
        "\n",
        "    return temp\n",
        "\n",
        "\n",
        "  def peek(self):\n",
        "    if self.top==None:\n",
        "      return \n",
        "    return self.top.data\n",
        "\n",
        "def check_par(user_input):\n",
        "  tracer = [None]*10\n",
        "  count = 0\n",
        "  stack = LinkedStack()\n",
        "  opn_bra = ['(', '{', \"[\"]\n",
        "  cls_bra = [\")\",\"}\", \"]\"]\n",
        "  for item in range(len(user_input)):\n",
        "    \n",
        "    if user_input[item] in opn_bra:\n",
        "      try:\n",
        "        stack.push(user_input[item])\n",
        "        tracer[count] = item\n",
        "        count+=1\n",
        "      except:\n",
        "        return \"Stack OverFlow\"\n",
        "\n",
        "    elif user_input[item] in cls_bra:\n",
        "      try:\n",
        "        popped_item = stack.pop()\n",
        "\n",
        "\n",
        "        if popped_item ==\"(\" and user_input[item] ==\")\":\n",
        "          tracer[count-1] = None\n",
        "          count = count-1\n",
        "          continue\n",
        "\n",
        "        elif popped_item == \"{\" and user_input[item] ==\"}\":\n",
        "          tracer[count-1] = None\n",
        "          count = count-1\n",
        "          continue\n",
        "\n",
        "        elif popped_item ==\"[\"  and user_input[item] ==']':\n",
        "          tracer[count-1] = None\n",
        "          count = count-1\n",
        "          continue\n",
        "\n",
        "        else: \n",
        "          print(\"This Expression is Not Correct\")\n",
        "          print(\"Error at character # {}\".format(tracer[count-1]+1))\n",
        "          return\n",
        "      except:\n",
        "        return f\"Stack UnderFlow\"\n",
        "\n",
        "  if stack.peek()==None:\n",
        "    print(\"This expression is correct.\")\n",
        "    return\n",
        "  else:\n",
        "    print(\"This expression is NOT correct.\")\n",
        "    print(\"Error at character # {}\".format(tracer[count-1]+1))\n",
        "    return\n",
        "\n",
        "\n"
      ]
    },
    {
      "cell_type": "code",
      "source": [
        "user_input = input(\"Enter a string: \")\n",
        "check_par(user_input)"
      ],
      "metadata": {
        "colab": {
          "base_uri": "https://localhost:8080/",
          "height": 71
        },
        "id": "2IcfAVqMgNMv",
        "outputId": "7a3895ab-7138-4c72-ffdb-30f2fc453d6a"
      },
      "execution_count": 10,
      "outputs": [
        {
          "output_type": "stream",
          "name": "stdout",
          "text": [
            "Enter a string: 1+2]*[3*3+{4–5(6(7/8/9)+10)–11+(12*8)]+14\n",
            "This Expression is Not Correct\n"
          ]
        },
        {
          "output_type": "execute_result",
          "data": {
            "text/plain": [
              "'Stack UnderFlow'"
            ],
            "application/vnd.google.colaboratory.intrinsic+json": {
              "type": "string"
            }
          },
          "metadata": {},
          "execution_count": 10
        }
      ]
    },
    {
      "cell_type": "markdown",
      "source": [
        "# Stack Solve With Array"
      ],
      "metadata": {
        "id": "MrZKM_WtnOZj"
      }
    },
    {
      "cell_type": "code",
      "source": [
        "class Stack(object):\n",
        "  def __init__(self):\n",
        "    self.size = 10\n",
        "    self.item = [None]*self.size\n",
        "    self.index = 0\n",
        "  def push(self, item):\n",
        "    try:\n",
        "      self.item[self.index] = item\n",
        "      self.index+=1\n",
        "\n",
        "      '''if self.index>self.size:\n",
        "        return \"Stack OverFlow\"'''\n",
        "    except:\n",
        "      return \"Stack OverFlow\"\n",
        "\n",
        "  def pop(self):\n",
        "    try:\n",
        "      popped_item = self.item[self.index-1]\n",
        "      self.item[self.index-1]=None\n",
        "      self.index = self.index-1\n",
        "\n",
        "\n",
        "      '''if self.item[0]==None:\n",
        "        return f\"Stack UnderFlow\"'''\n",
        "\n",
        "      return popped_item\n",
        "\n",
        "    except:\n",
        "      return f\"Stack UnderFlow\"\n",
        "\n",
        "  def peek(self):\n",
        "    if self.item[self.index-1]!=None:\n",
        "      return self.item[self.index-1]\n",
        "    else:\n",
        "      return None\n",
        "\n",
        "  def size(self):\n",
        "    if self.index>0:\n",
        "      return self.index\n",
        "    else:\n",
        "      return 0\n",
        "\n",
        "def check_par(user_input):\n",
        "  tracer = [None]*10\n",
        "  count = 0\n",
        "  stack = Stack()\n",
        "  opn_bra = ['(', '{', \"[\"]\n",
        "  cls_bra = [\")\",\"}\", \"]\"]\n",
        "  for item in range(len(user_input)):\n",
        "    \n",
        "    if user_input[item] in opn_bra:\n",
        "      try:\n",
        "        stack.push(user_input[item])\n",
        "        tracer[count] = item\n",
        "        count+=1\n",
        "      except:\n",
        "        return \"Stack OverFlow\"\n",
        "\n",
        "    elif user_input[item] in cls_bra:\n",
        "      try:\n",
        "        popped_item = stack.pop()\n",
        "\n",
        "\n",
        "        if popped_item ==\"(\" and user_input[item] ==\")\":\n",
        "          tracer[count-1] = None\n",
        "          count = count-1\n",
        "          continue\n",
        "\n",
        "        elif popped_item == \"{\" and user_input[item] ==\"}\":\n",
        "          tracer[count-1] = None\n",
        "          count = count-1\n",
        "          continue\n",
        "\n",
        "        elif popped_item ==\"[\"  and user_input[item] ==']':\n",
        "          tracer[count-1] = None\n",
        "          count = count-1\n",
        "          continue\n",
        "\n",
        "        else: \n",
        "          print(\"This Expression is Not Correct\")\n",
        "          print(\"Error at character # {}\".format(tracer[count-1]+1))\n",
        "          return\n",
        "      except:\n",
        "        return f\"Stack UnderFlow\"\n",
        "\n",
        "  if stack.peek()==None:\n",
        "    print(\"This expression is correct.\")\n",
        "    return\n",
        "  else:\n",
        "    print(\"This expression is NOT correct.\")\n",
        "    print(\"Error at character # {}\".format(tracer[count-1]+1))\n",
        "    return\n",
        "\n",
        "\n",
        "\n"
      ],
      "metadata": {
        "id": "6VrHo-awe2cu"
      },
      "execution_count": 24,
      "outputs": []
    },
    {
      "cell_type": "code",
      "source": [
        "user_input = input(\"Enter a string: \")\n",
        "check_par(user_input)\n"
      ],
      "metadata": {
        "colab": {
          "base_uri": "https://localhost:8080/"
        },
        "id": "LDavVrIBj39p",
        "outputId": "355e45df-8b95-4991-debf-2af43022119b"
      },
      "execution_count": 26,
      "outputs": [
        {
          "output_type": "stream",
          "name": "stdout",
          "text": [
            "Enter a string: 1+2*(3/4)\n",
            "This expression is correct.\n"
          ]
        }
      ]
    },
    {
      "cell_type": "markdown",
      "source": [
        "\n"
      ],
      "metadata": {
        "id": "g7u2bml83gCY"
      }
    },
    {
      "cell_type": "code",
      "source": [],
      "metadata": {
        "id": "8lOdP1xa7JVT"
      },
      "execution_count": null,
      "outputs": []
    }
  ]
}