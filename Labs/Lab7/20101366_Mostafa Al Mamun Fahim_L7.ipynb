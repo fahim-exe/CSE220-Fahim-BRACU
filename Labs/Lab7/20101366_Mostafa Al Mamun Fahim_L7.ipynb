{
  "nbformat": 4,
  "nbformat_minor": 0,
  "metadata": {
    "colab": {
      "provenance": []
    },
    "kernelspec": {
      "name": "python3",
      "display_name": "Python 3"
    },
    "language_info": {
      "name": "python"
    }
  },
  "cells": [
    {
      "cell_type": "markdown",
      "source": [
        "#Key Index Search and Sort"
      ],
      "metadata": {
        "id": "zfxKN7acwLCH"
      }
    },
    {
      "cell_type": "code",
      "execution_count": 26,
      "metadata": {
        "id": "7FnEwaIcmF5O"
      },
      "outputs": [],
      "source": [
        "class KeyIndex:\n",
        "\n",
        "  def __init__(self, a):\n",
        "    arr = a\n",
        "    \n",
        "    if min(a)<0:\n",
        "      self.new_arr = [0]*(max(a)-min(a)+1)\n",
        "\n",
        "      for i in a:\n",
        "        self.new_arr[i-min(a)]+=1\n",
        "\n",
        "    else:\n",
        "      self.new_arr = [0]*(max(a)+1)\n",
        "      for i in a:\n",
        "        self.new_arr[i] += 1\n",
        "    \n",
        "    \n",
        "  def print_arr(self):\n",
        "    print(self.new_arr)\n",
        "\n",
        "    \n",
        "\n",
        "  def search(self, key):\n",
        "    if key >=0 and key<len(self.new_arr) and self.new_arr[key]>0:\n",
        "      return True\n",
        "    else:\n",
        "      return False\n",
        "\n",
        "  def sort(self):\n",
        "    sorted_list = [None]*len(arr)\n",
        "    c = 0\n",
        "    if min(arr)>=0:\n",
        "      for index, val in enumerate(self.new_arr):\n",
        "        if val>=1:\n",
        "          for j in range(val):\n",
        "\n",
        "            sorted_list[c] = index\n",
        "            c+=1\n",
        "    else:\n",
        "      for index, val in enumerate(self.new_arr):\n",
        "        if val>=1:\n",
        "          for j in range(val):\n",
        "            sorted_list[c] = index-(abs(min(arr)))\n",
        "            c+=1\n",
        "\n",
        "    return sorted_list\n"
      ]
    },
    {
      "cell_type": "code",
      "source": [
        "arr = [1,2,3,4,5,6,7,8,9,0,-1,-2,-3,-4,-5,-6,-7,-9]\n",
        "\n",
        "\n",
        "ki = KeyIndex(arr)\n",
        "\n",
        "#ki.print_arr()\n",
        "print(ki.search(3))\n",
        "print(ki.search(-100))\n",
        "\n",
        "print(ki.sort())\n"
      ],
      "metadata": {
        "colab": {
          "base_uri": "https://localhost:8080/"
        },
        "id": "BR0ceCUepXc7",
        "outputId": "bff80e42-b0fb-494e-a8c1-83ef581cbcee"
      },
      "execution_count": 30,
      "outputs": [
        {
          "output_type": "stream",
          "name": "stdout",
          "text": [
            "True\n",
            "False\n",
            "[-9, -7, -6, -5, -4, -3, -2, -1, 0, 1, 2, 3, 4, 5, 6, 7, 8, 9]\n"
          ]
        }
      ]
    },
    {
      "cell_type": "markdown",
      "source": [
        "#Hashing\n"
      ],
      "metadata": {
        "id": "Tq0sYpzcwSJt"
      }
    },
    {
      "cell_type": "code",
      "source": [
        "def hash_func(string):\n",
        "  con = 0  \n",
        "  num = 0\n",
        "\n",
        "  for i in string:\n",
        "\n",
        "    if ord(i)>=48 and ord(i)<=57:\n",
        "\n",
        "      num +=int(i)\n",
        "        \n",
        "    elif  ord(i)>=65 and ord(i)<=90 and ord(i)!=65 and ord(i)!=69 and ord(i)!=73 and ord(i)!=79 and ord(i)!=85:\n",
        "\n",
        "      con+=1\n",
        "    \n",
        "  value = ((24*con)+num)%9\n",
        "  #print(value)\n",
        "  return value\n",
        "    \n",
        "\n",
        "\n",
        "\n",
        "\n",
        "def Store_str(arr):\n",
        "  #max lenght of hashtable is 9 \"the String array will contain no more than 9 values\"\n",
        "  hash_arr = [None]*9\n",
        "  for string in arr:\n",
        "    index = hash_func(string)\n",
        "\n",
        "    if hash_arr[index]==None:\n",
        "      hash_arr[index] = string\n",
        "      pass\n",
        "      \n",
        "\n",
        "    else:\n",
        "      idx = (index+1)%9\n",
        "      while True:\n",
        "        if hash_arr[idx]==None:\n",
        "          hash_arr[idx]=string\n",
        "          break\n",
        "        idx=(idx+1)%9\n",
        "\n",
        "  \n",
        "\n",
        "  print(hash_arr)\n",
        "\n",
        "\n",
        "\n",
        "arr = [\"ABWR3561\",\"LKGO14522\",\"SDHG14563\",\"ABGO14564\",\"ABNF6JDN65\",\"NDA103216\",\"P3N3MA3C7\",\"7D8A8Q8I8\",\"ABEW04659\"]\n",
        "\n",
        "Store_str(arr)\n"
      ],
      "metadata": {
        "id": "EcE3bT-NqPxv",
        "colab": {
          "base_uri": "https://localhost:8080/"
        },
        "outputId": "7efa2494-d5bd-424a-c0ee-a77afd6f6a24"
      },
      "execution_count": 33,
      "outputs": [
        {
          "output_type": "stream",
          "name": "stdout",
          "text": [
            "['ABNF6JDN65', 'NDA103216', '7D8A8Q8I8', 'ABEW04659', 'P3N3MA3C7', 'LKGO14522', 'ABWR3561', 'SDHG14563', 'ABGO14564']\n"
          ]
        }
      ]
    }
  ]
}